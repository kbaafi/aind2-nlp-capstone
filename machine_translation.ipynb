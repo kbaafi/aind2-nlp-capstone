{
 "cells": [
  {
   "cell_type": "markdown",
   "metadata": {
    "collapsed": true
   },
   "source": [
    "# Artificial Intelligence Nanodegree\n",
    "## Machine Translation Project\n",
    "In this notebook, sections that end with **'(IMPLEMENTATION)'** in the header indicate that the following blocks of code will require additional functionality which you must provide. Please be sure to read the instructions carefully!\n",
    "\n",
    "## Introduction\n",
    "In this notebook, you will build a deep neural network that functions as part of an end-to-end machine translation pipeline. Your completed pipeline will accept English text as input and return the French translation.\n",
    "\n",
    "- **Preprocess** - You'll convert text to sequence of integers.\n",
    "- **Models** Create models which accepts a sequence of integers as input and returns a probability distribution over possible translations. After learning about the basic types of neural networks that are often used for machine translation, you will engage in your own investigations, to design your own model!\n",
    "- **Prediction** Run the model on English text."
   ]
  },
  {
   "cell_type": "code",
   "execution_count": 1,
   "metadata": {},
   "outputs": [],
   "source": [
    "%load_ext autoreload\n",
    "%aimport helper, tests\n",
    "%autoreload 1"
   ]
  },
  {
   "cell_type": "code",
   "execution_count": 2,
   "metadata": {},
   "outputs": [
    {
     "name": "stderr",
     "output_type": "stream",
     "text": [
      "Using TensorFlow backend.\n"
     ]
    }
   ],
   "source": [
    "import collections\n",
    "\n",
    "import helper\n",
    "import numpy as np\n",
    "import project_tests as tests\n",
    "\n",
    "from keras.preprocessing.text import Tokenizer\n",
    "from keras.preprocessing.sequence import pad_sequences\n",
    "from keras.models import Model\n",
    "from keras.layers import GRU, Input, Dense, TimeDistributed, Activation, RepeatVector, Bidirectional, Flatten\n",
    "from keras.layers.embeddings import Embedding\n",
    "from keras.optimizers import Adam\n",
    "from keras.losses import sparse_categorical_crossentropy"
   ]
  },
  {
   "cell_type": "markdown",
   "metadata": {},
   "source": [
    "### Verify access to the GPU\n",
    "The following test applies only if you expect to be using a GPU, e.g., while running in a Udacity Workspace or using an AWS instance with GPU support. Run the next cell, and verify that the device_type is \"GPU\".\n",
    "- If the device is not GPU & you are running from a Udacity Workspace, then save your workspace with the icon at the top, then click \"enable\" at the bottom of the workspace.\n",
    "- If the device is not GPU & you are running from an AWS instance, then refer to the cloud computing instructions in the classroom to verify your setup steps."
   ]
  },
  {
   "cell_type": "code",
   "execution_count": 3,
   "metadata": {},
   "outputs": [
    {
     "name": "stdout",
     "output_type": "stream",
     "text": [
      "[name: \"/device:CPU:0\"\n",
      "device_type: \"CPU\"\n",
      "memory_limit: 268435456\n",
      "locality {\n",
      "}\n",
      "incarnation: 4241202852085776299\n",
      ", name: \"/device:GPU:0\"\n",
      "device_type: \"GPU\"\n",
      "memory_limit: 7275734631\n",
      "locality {\n",
      "  bus_id: 1\n",
      "  links {\n",
      "  }\n",
      "}\n",
      "incarnation: 10283534383058982428\n",
      "physical_device_desc: \"device: 0, name: GeForce GTX 1070, pci bus id: 0000:01:00.0, compute capability: 6.1\"\n",
      "]\n"
     ]
    }
   ],
   "source": [
    "from tensorflow.python.client import device_lib\n",
    "print(device_lib.list_local_devices())"
   ]
  },
  {
   "cell_type": "markdown",
   "metadata": {},
   "source": [
    "## Dataset\n",
    "We begin by investigating the dataset that will be used to train and evaluate your pipeline.  The most common datasets used for machine translation are from [WMT](http://www.statmt.org/).  However, that will take a long time to train a neural network on.  We'll be using a dataset we created for this project that contains a small vocabulary.  You'll be able to train your model in a reasonable time with this dataset.\n",
    "### Load Data\n",
    "The data is located in `data/small_vocab_en` and `data/small_vocab_fr`. The `small_vocab_en` file contains English sentences with their French translations in the `small_vocab_fr` file. Load the English and French data from these files from running the cell below."
   ]
  },
  {
   "cell_type": "code",
   "execution_count": 4,
   "metadata": {},
   "outputs": [
    {
     "name": "stdout",
     "output_type": "stream",
     "text": [
      "Dataset Loaded\n"
     ]
    }
   ],
   "source": [
    "# Load English data\n",
    "english_sentences = helper.load_data('data/small_vocab_en')\n",
    "# Load French data\n",
    "french_sentences = helper.load_data('data/small_vocab_fr')\n",
    "\n",
    "print('Dataset Loaded')"
   ]
  },
  {
   "cell_type": "markdown",
   "metadata": {},
   "source": [
    "### Files\n",
    "Each line in `small_vocab_en` contains an English sentence with the respective translation in each line of `small_vocab_fr`.  View the first two lines from each file."
   ]
  },
  {
   "cell_type": "code",
   "execution_count": 5,
   "metadata": {},
   "outputs": [
    {
     "name": "stdout",
     "output_type": "stream",
     "text": [
      "small_vocab_en Line 1:  new jersey is sometimes quiet during autumn , and it is snowy in april .\n",
      "small_vocab_fr Line 1:  new jersey est parfois calme pendant l' automne , et il est neigeux en avril .\n",
      "small_vocab_en Line 2:  the united states is usually chilly during july , and it is usually freezing in november .\n",
      "small_vocab_fr Line 2:  les états-unis est généralement froid en juillet , et il gèle habituellement en novembre .\n"
     ]
    }
   ],
   "source": [
    "for sample_i in range(2):\n",
    "    print('small_vocab_en Line {}:  {}'.format(sample_i + 1, english_sentences[sample_i]))\n",
    "    print('small_vocab_fr Line {}:  {}'.format(sample_i + 1, french_sentences[sample_i]))"
   ]
  },
  {
   "cell_type": "markdown",
   "metadata": {},
   "source": [
    "From looking at the sentences, you can see they have been preprocessed already.  The puncuations have been delimited using spaces. All the text have been converted to lowercase.  This should save you some time, but the text requires more preprocessing.\n",
    "### Vocabulary\n",
    "The complexity of the problem is determined by the complexity of the vocabulary.  A more complex vocabulary is a more complex problem.  Let's look at the complexity of the dataset we'll be working with."
   ]
  },
  {
   "cell_type": "code",
   "execution_count": 6,
   "metadata": {},
   "outputs": [
    {
     "name": "stdout",
     "output_type": "stream",
     "text": [
      "1823250 English words.\n",
      "227 unique English words.\n",
      "10 Most common words in the English dataset:\n",
      "\"is\" \",\" \".\" \"in\" \"it\" \"during\" \"the\" \"but\" \"and\" \"sometimes\"\n",
      "\n",
      "1961295 French words.\n",
      "355 unique French words.\n",
      "10 Most common words in the French dataset:\n",
      "\"est\" \".\" \",\" \"en\" \"il\" \"les\" \"mais\" \"et\" \"la\" \"parfois\"\n"
     ]
    }
   ],
   "source": [
    "english_words_counter = collections.Counter([word for sentence in english_sentences for word in sentence.split()])\n",
    "french_words_counter = collections.Counter([word for sentence in french_sentences for word in sentence.split()])\n",
    "\n",
    "print('{} English words.'.format(len([word for sentence in english_sentences for word in sentence.split()])))\n",
    "print('{} unique English words.'.format(len(english_words_counter)))\n",
    "print('10 Most common words in the English dataset:')\n",
    "print('\"' + '\" \"'.join(list(zip(*english_words_counter.most_common(10)))[0]) + '\"')\n",
    "print()\n",
    "print('{} French words.'.format(len([word for sentence in french_sentences for word in sentence.split()])))\n",
    "print('{} unique French words.'.format(len(french_words_counter)))\n",
    "print('10 Most common words in the French dataset:')\n",
    "print('\"' + '\" \"'.join(list(zip(*french_words_counter.most_common(10)))[0]) + '\"')"
   ]
  },
  {
   "cell_type": "markdown",
   "metadata": {},
   "source": [
    "For comparison, _Alice's Adventures in Wonderland_ contains 2,766 unique words of a total of 15,500 words.\n",
    "## Preprocess\n",
    "For this project, you won't use text data as input to your model. Instead, you'll convert the text into sequences of integers using the following preprocess methods:\n",
    "1. Tokenize the words into ids\n",
    "2. Add padding to make all the sequences the same length.\n",
    "\n",
    "Time to start preprocessing the data...\n",
    "### Tokenize (IMPLEMENTATION)\n",
    "For a neural network to predict on text data, it first has to be turned into data it can understand. Text data like \"dog\" is a sequence of ASCII character encodings.  Since a neural network is a series of multiplication and addition operations, the input data needs to be number(s).\n",
    "\n",
    "We can turn each character into a number or each word into a number.  These are called character and word ids, respectively.  Character ids are used for character level models that generate text predictions for each character.  A word level model uses word ids that generate text predictions for each word.  Word level models tend to learn better, since they are lower in complexity, so we'll use those.\n",
    "\n",
    "Turn each sentence into a sequence of words ids using Keras's [`Tokenizer`](https://keras.io/preprocessing/text/#tokenizer) function. Use this function to tokenize `english_sentences` and `french_sentences` in the cell below.\n",
    "\n",
    "Running the cell will run `tokenize` on sample data and show output for debugging."
   ]
  },
  {
   "cell_type": "code",
   "execution_count": 7,
   "metadata": {},
   "outputs": [
    {
     "name": "stdout",
     "output_type": "stream",
     "text": [
      "{'the': 1, 'quick': 2, 'a': 3, 'brown': 4, 'fox': 5, 'jumps': 6, 'over': 7, 'lazy': 8, 'dog': 9, 'by': 10, 'jove': 11, 'my': 12, 'study': 13, 'of': 14, 'lexicography': 15, 'won': 16, 'prize': 17, 'this': 18, 'is': 19, 'short': 20, 'sentence': 21}\n",
      "\n",
      "Sequence 1 in x\n",
      "  Input:  The quick brown fox jumps over the lazy dog .\n",
      "  Output: [1, 2, 4, 5, 6, 7, 1, 8, 9]\n",
      "Sequence 2 in x\n",
      "  Input:  By Jove , my quick study of lexicography won a prize .\n",
      "  Output: [10, 11, 12, 2, 13, 14, 15, 16, 3, 17]\n",
      "Sequence 3 in x\n",
      "  Input:  This is a short sentence .\n",
      "  Output: [18, 19, 3, 20, 21]\n"
     ]
    }
   ],
   "source": [
    "def tokenize(x):\n",
    "    \"\"\"\n",
    "    Tokenize x\n",
    "    :param x: List of sentences/strings to be tokenized\n",
    "    :return: Tuple of (tokenized x data, tokenizer used to tokenize x)\n",
    "    \"\"\"\n",
    "    # TODO: Implement\n",
    "    tokenizer = Tokenizer()\n",
    "    tokenizer.fit_on_texts(x)\n",
    "    return tokenizer.texts_to_sequences(x), tokenizer\n",
    "tests.test_tokenize(tokenize)\n",
    "\n",
    "# Tokenize Example output\n",
    "text_sentences = [\n",
    "    'The quick brown fox jumps over the lazy dog .',\n",
    "    'By Jove , my quick study of lexicography won a prize .',\n",
    "    'This is a short sentence .']\n",
    "text_tokenized, text_tokenizer = tokenize(text_sentences)\n",
    "print(text_tokenizer.word_index)\n",
    "print()\n",
    "for sample_i, (sent, token_sent) in enumerate(zip(text_sentences, text_tokenized)):\n",
    "    print('Sequence {} in x'.format(sample_i + 1))\n",
    "    print('  Input:  {}'.format(sent))\n",
    "    print('  Output: {}'.format(token_sent))"
   ]
  },
  {
   "cell_type": "markdown",
   "metadata": {},
   "source": [
    "### Padding (IMPLEMENTATION)\n",
    "When batching the sequence of word ids together, each sequence needs to be the same length.  Since sentences are dynamic in length, we can add padding to the end of the sequences to make them the same length.\n",
    "\n",
    "Make sure all the English sequences have the same length and all the French sequences have the same length by adding padding to the **end** of each sequence using Keras's [`pad_sequences`](https://keras.io/preprocessing/sequence/#pad_sequences) function."
   ]
  },
  {
   "cell_type": "code",
   "execution_count": 8,
   "metadata": {},
   "outputs": [
    {
     "name": "stdout",
     "output_type": "stream",
     "text": [
      "Sequence 1 in x\n",
      "  Input:  [1 2 4 5 6 7 1 8 9]\n",
      "  Output: [1 2 4 5 6 7 1 8 9 0]\n",
      "Sequence 2 in x\n",
      "  Input:  [10 11 12  2 13 14 15 16  3 17]\n",
      "  Output: [10 11 12  2 13 14 15 16  3 17]\n",
      "Sequence 3 in x\n",
      "  Input:  [18 19  3 20 21]\n",
      "  Output: [18 19  3 20 21  0  0  0  0  0]\n"
     ]
    }
   ],
   "source": [
    "def pad(x, length=None):\n",
    "    \"\"\"\n",
    "    Pad x\n",
    "    :param x: List of sequences.\n",
    "    :param length: Length to pad the sequence to.  If None, use length of longest sequence in x.\n",
    "    :return: Padded numpy array of sequences\n",
    "    \"\"\"\n",
    "    # TODO: Implement\n",
    "    if length is None:\n",
    "        length = max(len(sentence) for sentence in x)\n",
    "    return pad_sequences(x,maxlen=length,padding = 'post')\n",
    "tests.test_pad(pad)\n",
    "\n",
    "# Pad Tokenized output\n",
    "test_pad = pad(text_tokenized)\n",
    "for sample_i, (token_sent, pad_sent) in enumerate(zip(text_tokenized, test_pad)):\n",
    "    print('Sequence {} in x'.format(sample_i + 1))\n",
    "    print('  Input:  {}'.format(np.array(token_sent)))\n",
    "    print('  Output: {}'.format(pad_sent))"
   ]
  },
  {
   "cell_type": "markdown",
   "metadata": {},
   "source": [
    "### Preprocess Pipeline\n",
    "Your focus for this project is to build neural network architecture, so we won't ask you to create a preprocess pipeline.  Instead, we've provided you with the implementation of the `preprocess` function."
   ]
  },
  {
   "cell_type": "code",
   "execution_count": 9,
   "metadata": {},
   "outputs": [
    {
     "name": "stdout",
     "output_type": "stream",
     "text": [
      "Data Preprocessed\n",
      "Max English sentence length: 15\n",
      "Max French sentence length: 21\n",
      "English vocabulary size: 199\n",
      "French vocabulary size: 344\n"
     ]
    }
   ],
   "source": [
    "def preprocess(x, y):\n",
    "    \"\"\"\n",
    "    Preprocess x and y\n",
    "    :param x: Feature List of sentences\n",
    "    :param y: Label List of sentences\n",
    "    :return: Tuple of (Preprocessed x, Preprocessed y, x tokenizer, y tokenizer)\n",
    "    \"\"\"\n",
    "    preprocess_x, x_tk = tokenize(x)\n",
    "    preprocess_y, y_tk = tokenize(y)\n",
    "\n",
    "    preprocess_x = pad(preprocess_x)\n",
    "    preprocess_y = pad(preprocess_y)\n",
    "\n",
    "    # Keras's sparse_categorical_crossentropy function requires the labels to be in 3 dimensions\n",
    "    preprocess_y = preprocess_y.reshape(*preprocess_y.shape, 1)\n",
    "\n",
    "    return preprocess_x, preprocess_y, x_tk, y_tk\n",
    "\n",
    "preproc_english_sentences, preproc_french_sentences, english_tokenizer, french_tokenizer =\\\n",
    "    preprocess(english_sentences, french_sentences)\n",
    "    \n",
    "max_english_sequence_length = preproc_english_sentences.shape[1]\n",
    "max_french_sequence_length = preproc_french_sentences.shape[1]\n",
    "english_vocab_size = len(english_tokenizer.word_index)\n",
    "french_vocab_size = len(french_tokenizer.word_index)\n",
    "\n",
    "print('Data Preprocessed')\n",
    "print(\"Max English sentence length:\", max_english_sequence_length)\n",
    "print(\"Max French sentence length:\", max_french_sequence_length)\n",
    "print(\"English vocabulary size:\", english_vocab_size)\n",
    "print(\"French vocabulary size:\", french_vocab_size)"
   ]
  },
  {
   "cell_type": "markdown",
   "metadata": {},
   "source": [
    "## Models\n",
    "In this section, you will experiment with various neural network architectures.\n",
    "You will begin by training four relatively simple architectures.\n",
    "- Model 1 is a simple RNN\n",
    "- Model 2 is a RNN with Embedding\n",
    "- Model 3 is a Bidirectional RNN\n",
    "- Model 4 is an optional Encoder-Decoder RNN\n",
    "\n",
    "After experimenting with the four simple architectures, you will construct a deeper architecture that is designed to outperform all four models.\n",
    "### Ids Back to Text\n",
    "The neural network will be translating the input to words ids, which isn't the final form we want.  We want the French translation.  The function `logits_to_text` will bridge the gab between the logits from the neural network to the French translation.  You'll be using this function to better understand the output of the neural network."
   ]
  },
  {
   "cell_type": "code",
   "execution_count": 10,
   "metadata": {},
   "outputs": [
    {
     "name": "stdout",
     "output_type": "stream",
     "text": [
      "`logits_to_text` function loaded.\n"
     ]
    }
   ],
   "source": [
    "def logits_to_text(logits, tokenizer):\n",
    "    \"\"\"\n",
    "    Turn logits from a neural network into text using the tokenizer\n",
    "    :param logits: Logits from a neural network\n",
    "    :param tokenizer: Keras Tokenizer fit on the labels\n",
    "    :return: String that represents the text of the logits\n",
    "    \"\"\"\n",
    "    index_to_words = {id: word for word, id in tokenizer.word_index.items()}\n",
    "    index_to_words[0] = '<PAD>'\n",
    "\n",
    "    return ' '.join([index_to_words[prediction] for prediction in np.argmax(logits, 1)])\n",
    "\n",
    "print('`logits_to_text` function loaded.')"
   ]
  },
  {
   "cell_type": "markdown",
   "metadata": {},
   "source": [
    "### Model 1: RNN (IMPLEMENTATION)\n",
    "![RNN](images/rnn.png)\n",
    "A basic RNN model is a good baseline for sequence data.  In this model, you'll build a RNN that translates English to French."
   ]
  },
  {
   "cell_type": "code",
   "execution_count": 11,
   "metadata": {},
   "outputs": [
    {
     "name": "stdout",
     "output_type": "stream",
     "text": [
      "Train on 110288 samples, validate on 27573 samples\n",
      "Epoch 1/10\n",
      "110288/110288 [==============================] - 7s 64us/step - loss: 2.6418 - acc: 0.4787 - val_loss: 1.9578 - val_acc: 0.5341\n",
      "Epoch 2/10\n",
      "110288/110288 [==============================] - 6s 56us/step - loss: 1.6857 - acc: 0.5753 - val_loss: 1.5005 - val_acc: 0.5954\n",
      "Epoch 3/10\n",
      "110288/110288 [==============================] - 6s 54us/step - loss: 1.4269 - acc: 0.6086 - val_loss: 1.3676 - val_acc: 0.6159\n",
      "Epoch 4/10\n",
      "110288/110288 [==============================] - 6s 55us/step - loss: 1.3267 - acc: 0.6246 - val_loss: 1.2851 - val_acc: 0.6332\n",
      "Epoch 5/10\n",
      "110288/110288 [==============================] - 6s 54us/step - loss: 1.2523 - acc: 0.6436 - val_loss: 1.2226 - val_acc: 0.6487\n",
      "Epoch 6/10\n",
      "110288/110288 [==============================] - 6s 53us/step - loss: 1.1919 - acc: 0.6588 - val_loss: 1.1648 - val_acc: 0.6635\n",
      "Epoch 7/10\n",
      "110288/110288 [==============================] - 6s 54us/step - loss: 1.1423 - acc: 0.6670 - val_loss: 1.1203 - val_acc: 0.6673\n",
      "Epoch 8/10\n",
      "110288/110288 [==============================] - 6s 53us/step - loss: 1.1031 - acc: 0.6734 - val_loss: 1.0856 - val_acc: 0.6769\n",
      "Epoch 9/10\n",
      "110288/110288 [==============================] - 6s 53us/step - loss: 1.0710 - acc: 0.6786 - val_loss: 1.0557 - val_acc: 0.6835\n",
      "Epoch 10/10\n",
      "110288/110288 [==============================] - 6s 54us/step - loss: 1.0447 - acc: 0.6821 - val_loss: 1.0317 - val_acc: 0.6866\n",
      "new jersey est parfois calme en mois et il est est en en <PAD> <PAD> <PAD> <PAD> <PAD> <PAD> <PAD> <PAD>\n"
     ]
    }
   ],
   "source": [
    "def simple_model(input_shape, output_sequence_length, english_vocab_size, french_vocab_size):\n",
    "    \"\"\"\n",
    "    Build and train a basic RNN on x and y\n",
    "    :param input_shape: Tuple of input shape\n",
    "    :param output_sequence_length: Length of output sequence\n",
    "    :param english_vocab_size: Number of unique English words in the dataset\n",
    "    :param french_vocab_size: Number of unique French words in the dataset\n",
    "    :return: Keras model built, but not trained\n",
    "    \"\"\"\n",
    "    # TODO: Build the layers\n",
    "    learning_rate = 1e-3\n",
    "\n",
    "    input_seq = Input(shape=input_shape[1:])\n",
    "    \n",
    "    x = GRU(72, return_sequences=True)(input_seq)\n",
    "    \n",
    "    x = Dense(french_vocab_size*4, activation='relu')(x)\n",
    "    \n",
    "    out_layer = Dense(french_vocab_size, activation='softmax')(x)\n",
    "\n",
    "    model = Model(inputs=input_seq, outputs=out_layer)\n",
    "    \n",
    "    model.compile(loss=sparse_categorical_crossentropy,\n",
    "                  optimizer=Adam(learning_rate),\n",
    "                  metrics=['accuracy'])\n",
    "    return model\n",
    "\n",
    "tests.test_simple_model(simple_model)\n",
    "\n",
    "# Reshaping the input to work with a basic RNN\n",
    "tmp_x = pad(preproc_english_sentences, max_french_sequence_length)\n",
    "tmp_x = tmp_x.reshape((-1, preproc_french_sentences.shape[-2], 1))\n",
    "\n",
    "# Train the neural network\n",
    "simple_rnn_model = simple_model(\n",
    "    tmp_x.shape,\n",
    "    max_french_sequence_length,\n",
    "    english_vocab_size+1,\n",
    "    french_vocab_size+1)\n",
    "simple_rnn_model.fit(tmp_x, preproc_french_sentences, batch_size=1024, epochs=10, validation_split=0.2)\n",
    "\n",
    "# Print prediction(s)\n",
    "print(logits_to_text(simple_rnn_model.predict(tmp_x[:1])[0], french_tokenizer))\n",
    "\n"
   ]
  },
  {
   "cell_type": "markdown",
   "metadata": {},
   "source": [
    "### Model 2: Embedding (IMPLEMENTATION)\n",
    "![RNN](images/embedding.png)\n",
    "You've turned the words into ids, but there's a better representation of a word.  This is called word embeddings.  An embedding is a vector representation of the word that is close to similar words in n-dimensional space, where the n represents the size of the embedding vectors.\n",
    "\n",
    "In this model, you'll create a RNN model using embedding."
   ]
  },
  {
   "cell_type": "code",
   "execution_count": 12,
   "metadata": {},
   "outputs": [
    {
     "name": "stdout",
     "output_type": "stream",
     "text": [
      "Train on 110288 samples, validate on 27573 samples\n",
      "Epoch 1/10\n",
      "110288/110288 [==============================] - 17s 157us/step - loss: 2.0527 - acc: 0.5806 - val_loss: 0.9196 - val_acc: 0.7571\n",
      "Epoch 2/10\n",
      "110288/110288 [==============================] - 17s 153us/step - loss: 0.6510 - acc: 0.8089 - val_loss: 0.4940 - val_acc: 0.8417\n",
      "Epoch 3/10\n",
      "110288/110288 [==============================] - 17s 150us/step - loss: 0.4261 - acc: 0.8598 - val_loss: 0.3725 - val_acc: 0.8754\n",
      "Epoch 4/10\n",
      "110288/110288 [==============================] - 17s 150us/step - loss: 0.3369 - acc: 0.8861 - val_loss: 0.3080 - val_acc: 0.8961\n",
      "Epoch 5/10\n",
      "110288/110288 [==============================] - 17s 150us/step - loss: 0.2894 - acc: 0.9013 - val_loss: 0.2696 - val_acc: 0.9083\n",
      "Epoch 6/10\n",
      "110288/110288 [==============================] - 17s 156us/step - loss: 0.2556 - acc: 0.9121 - val_loss: 0.2473 - val_acc: 0.9150\n",
      "Epoch 7/10\n",
      "110288/110288 [==============================] - 17s 155us/step - loss: 0.2334 - acc: 0.9190 - val_loss: 0.2311 - val_acc: 0.9206\n",
      "Epoch 8/10\n",
      "110288/110288 [==============================] - 17s 152us/step - loss: 0.2211 - acc: 0.9227 - val_loss: 0.2214 - val_acc: 0.9223\n",
      "Epoch 9/10\n",
      "110288/110288 [==============================] - 17s 153us/step - loss: 0.2078 - acc: 0.9267 - val_loss: 0.2126 - val_acc: 0.9263\n",
      "Epoch 10/10\n",
      "110288/110288 [==============================] - 17s 152us/step - loss: 0.1983 - acc: 0.9295 - val_loss: 0.2053 - val_acc: 0.9283\n",
      "new jersey est parfois calme au l'automne automne et il est neigeux en avril <PAD> <PAD> <PAD> <PAD> <PAD> <PAD> <PAD>\n"
     ]
    }
   ],
   "source": [
    "def embed_model(input_shape, output_sequence_length, english_vocab_size, french_vocab_size):\n",
    "    \"\"\"\n",
    "    Build and train a RNN model using word embedding on x and y\n",
    "    :param input_shape: Tuple of input shape\n",
    "    :param output_sequence_length: Length of output sequence\n",
    "    :param english_vocab_size: Number of unique English words in the dataset\n",
    "    :param french_vocab_size: Number of unique French words in the dataset\n",
    "    :return: Keras model built, but not trained\n",
    "    \"\"\"\n",
    "    # TODO: Implement\n",
    "    learning_rate = 1e-3\n",
    "\n",
    "    input_seq = Input(shape=input_shape[1:])\n",
    "    \n",
    "    embedding = Embedding(input_dim = english_vocab_size, output_dim = 512)(input_seq)\n",
    "    \n",
    "    gru = GRU(512, return_sequences=True)(embedding)\n",
    "    \n",
    "    #td =TimeDistributed(Dense(french_vocab_size*4, activation='relu'))(gru)\n",
    "    td = Dense(french_vocab_size*4, activation='relu')(gru)\n",
    "    \n",
    "    out_layer = Dense(french_vocab_size, activation='softmax')(td)\n",
    "\n",
    "    model = Model(inputs=input_seq, outputs=out_layer)\n",
    "    \n",
    "    model.compile(loss=sparse_categorical_crossentropy,\n",
    "                  optimizer=Adam(learning_rate),\n",
    "                  metrics=['accuracy'])\n",
    "    return model\n",
    "\n",
    "tests.test_embed_model(embed_model)\n",
    "\n",
    "# Reshaping the input to work with a basic RNN\n",
    "tmp_x = pad(preproc_english_sentences, max_french_sequence_length)\n",
    "#tmp_x = tmp_x.reshape((-1, preproc_french_sentences.shape[-2], 1))\n",
    "\n",
    "# Train the neural network\n",
    "embed_rnn_model = embed_model(\n",
    "    tmp_x.shape,\n",
    "    max_french_sequence_length,\n",
    "    english_vocab_size+1,\n",
    "    french_vocab_size+1)\n",
    "embed_rnn_model.fit(tmp_x, preproc_french_sentences, batch_size=1024, epochs=10, validation_split=0.2)\n",
    "\n",
    "# Print prediction(s)\n",
    "print(logits_to_text(embed_rnn_model.predict(tmp_x[:1])[0], french_tokenizer))\n"
   ]
  },
  {
   "cell_type": "markdown",
   "metadata": {},
   "source": [
    "### Model 3: Bidirectional RNNs (IMPLEMENTATION)\n",
    "![RNN](images/bidirectional.png)\n",
    "One restriction of a RNN is that it can't see the future input, only the past.  This is where bidirectional recurrent neural networks come in.  They are able to see the future data."
   ]
  },
  {
   "cell_type": "code",
   "execution_count": 13,
   "metadata": {
    "scrolled": true
   },
   "outputs": [
    {
     "name": "stdout",
     "output_type": "stream",
     "text": [
      "Train on 110288 samples, validate on 27573 samples\n",
      "Epoch 1/10\n",
      "110288/110288 [==============================] - 20s 183us/step - loss: 1.7951 - acc: 0.5801 - val_loss: 1.1775 - val_acc: 0.6533\n",
      "Epoch 2/10\n",
      "110288/110288 [==============================] - 19s 171us/step - loss: 1.1204 - acc: 0.6589 - val_loss: 1.0153 - val_acc: 0.6816\n",
      "Epoch 3/10\n",
      "110288/110288 [==============================] - 19s 171us/step - loss: 1.0236 - acc: 0.6776 - val_loss: 0.9594 - val_acc: 0.6937\n",
      "Epoch 4/10\n",
      "110288/110288 [==============================] - 19s 171us/step - loss: 0.9529 - acc: 0.6920 - val_loss: 0.9143 - val_acc: 0.7049\n",
      "Epoch 5/10\n",
      "110288/110288 [==============================] - 19s 171us/step - loss: 0.8975 - acc: 0.7034 - val_loss: 0.8140 - val_acc: 0.7239\n",
      "Epoch 6/10\n",
      "110288/110288 [==============================] - 19s 171us/step - loss: 0.8604 - acc: 0.7113 - val_loss: 0.8074 - val_acc: 0.7264\n",
      "Epoch 7/10\n",
      "110288/110288 [==============================] - 19s 171us/step - loss: 0.8329 - acc: 0.7198 - val_loss: 0.8044 - val_acc: 0.7212\n",
      "Epoch 8/10\n",
      "110288/110288 [==============================] - 20s 183us/step - loss: 0.7996 - acc: 0.7285 - val_loss: 0.7528 - val_acc: 0.7404\n",
      "Epoch 9/10\n",
      "110288/110288 [==============================] - 19s 172us/step - loss: 0.7664 - acc: 0.7374 - val_loss: 0.7452 - val_acc: 0.7431\n",
      "Epoch 10/10\n",
      "110288/110288 [==============================] - 19s 172us/step - loss: 0.7559 - acc: 0.7405 - val_loss: 0.6750 - val_acc: 0.7663\n",
      "new jersey est parfois chaud en l' et il et il en neigeux en <PAD> <PAD> <PAD> <PAD> <PAD> <PAD> <PAD>\n"
     ]
    }
   ],
   "source": [
    "def bd_model(input_shape, output_sequence_length, english_vocab_size, french_vocab_size):\n",
    "    \"\"\"\n",
    "    Build and train a bidirectional RNN model on x and y\n",
    "    :param input_shape: Tuple of input shape\n",
    "    :param output_sequence_length: Length of output sequence\n",
    "    :param english_vocab_size: Number of unique English words in the dataset\n",
    "    :param french_vocab_size: Number of unique French words in the dataset\n",
    "    :return: Keras model built, but not trained\n",
    "    \"\"\"\n",
    "    # TODO: Implement\n",
    "    learning_rate = 1e-2\n",
    "\n",
    "    input_seq = Input(shape=(input_shape[1:]))\n",
    "    \n",
    "    #embedding = Embedding(input_dim = english_vocab_size, output_dim = 512)(input_seq)\n",
    "    #print(embedding.shape)\n",
    "    \n",
    "    gru = Bidirectional(GRU(512,return_sequences=True, recurrent_dropout=0.2))(input_seq)\n",
    "    \n",
    "    td = Dense(512, activation='relu')(gru)\n",
    "    \n",
    "    out_layer = TimeDistributed(Dense(french_vocab_size, activation='softmax'))(td)\n",
    "\n",
    "    model = Model(inputs=input_seq, outputs=out_layer)\n",
    "    \n",
    "    model.compile(loss=sparse_categorical_crossentropy,\n",
    "                  optimizer=Adam(learning_rate),\n",
    "                  metrics=['accuracy'])\n",
    "    return model\n",
    "    \n",
    "tests.test_bd_model(bd_model)\n",
    "\n",
    "# TODO: Train and Print prediction(s)\n",
    "# Pad the input\n",
    "tmp_x = pad(preproc_english_sentences, max_french_sequence_length)\n",
    "tmp_x = tmp_x.reshape((-1, preproc_french_sentences.shape[-2], 1))\n",
    "\n",
    "# TODO: Train and Print prediction(s)\n",
    "\n",
    "# Train the model\n",
    "bidirectional_model = bd_model(tmp_x.shape,\n",
    "                               max_french_sequence_length,\n",
    "                               english_vocab_size + 1,\n",
    "                               french_vocab_size + 1)\n",
    "# Fit the model\n",
    "bidirectional_model.fit(tmp_x, preproc_french_sentences, batch_size=1024, epochs=10, validation_split=0.2)\n",
    "\n",
    "# Print out the predictions\n",
    "print(logits_to_text(bidirectional_model.predict(tmp_x[:1])[0], french_tokenizer))"
   ]
  },
  {
   "cell_type": "markdown",
   "metadata": {},
   "source": [
    "### Model 4: Encoder-Decoder (OPTIONAL)\n",
    "Time to look at encoder-decoder models.  This model is made up of an encoder and decoder. The encoder creates a matrix representation of the sentence.  The decoder takes this matrix as input and predicts the translation as output.\n",
    "\n",
    "Create an encoder-decoder model in the cell below."
   ]
  },
  {
   "cell_type": "code",
   "execution_count": 14,
   "metadata": {},
   "outputs": [
    {
     "name": "stdout",
     "output_type": "stream",
     "text": [
      "Train on 110288 samples, validate on 27573 samples\n",
      "Epoch 1/30\n",
      "110288/110288 [==============================] - 8s 68us/step - loss: 2.5401 - acc: 0.4680 - val_loss: 1.8457 - val_acc: 0.5468\n",
      "Epoch 2/30\n",
      "110288/110288 [==============================] - 6s 56us/step - loss: 1.5966 - acc: 0.5786 - val_loss: 1.3988 - val_acc: 0.6214\n",
      "Epoch 3/30\n",
      "110288/110288 [==============================] - 6s 57us/step - loss: 1.3733 - acc: 0.6209 - val_loss: 1.2737 - val_acc: 0.6411\n",
      "Epoch 4/30\n",
      "110288/110288 [==============================] - 6s 57us/step - loss: 1.2693 - acc: 0.6429 - val_loss: 1.2264 - val_acc: 0.6495\n",
      "Epoch 5/30\n",
      "110288/110288 [==============================] - 6s 57us/step - loss: 1.2421 - acc: 0.6455 - val_loss: 1.2023 - val_acc: 0.6525\n",
      "Epoch 6/30\n",
      "110288/110288 [==============================] - 6s 57us/step - loss: 1.2009 - acc: 0.6548 - val_loss: 1.1532 - val_acc: 0.6694\n",
      "Epoch 7/30\n",
      "110288/110288 [==============================] - 6s 57us/step - loss: 1.2124 - acc: 0.6525 - val_loss: 1.1727 - val_acc: 0.6580\n",
      "Epoch 8/30\n",
      "110288/110288 [==============================] - 6s 57us/step - loss: 1.1525 - acc: 0.6669 - val_loss: 1.1207 - val_acc: 0.6760\n",
      "Epoch 9/30\n",
      "110288/110288 [==============================] - 6s 57us/step - loss: 1.1628 - acc: 0.6646 - val_loss: 1.1137 - val_acc: 0.6734\n",
      "Epoch 10/30\n",
      "110288/110288 [==============================] - 6s 56us/step - loss: 1.1233 - acc: 0.6739 - val_loss: 1.0944 - val_acc: 0.6816\n",
      "Epoch 11/30\n",
      "110288/110288 [==============================] - 6s 56us/step - loss: 1.1333 - acc: 0.6723 - val_loss: 1.1035 - val_acc: 0.6775\n",
      "Epoch 12/30\n",
      "110288/110288 [==============================] - 6s 56us/step - loss: 1.2210 - acc: 0.6578 - val_loss: 1.1086 - val_acc: 0.6795\n",
      "Epoch 13/30\n",
      "110288/110288 [==============================] - 6s 56us/step - loss: 1.1683 - acc: 0.6636 - val_loss: 1.1139 - val_acc: 0.6788\n",
      "Epoch 14/30\n",
      "110288/110288 [==============================] - 6s 56us/step - loss: 1.1478 - acc: 0.6676 - val_loss: 1.1096 - val_acc: 0.6767\n",
      "Epoch 15/30\n",
      "110288/110288 [==============================] - 6s 56us/step - loss: 1.1197 - acc: 0.6749 - val_loss: 1.1058 - val_acc: 0.6731\n",
      "Epoch 16/30\n",
      "110288/110288 [==============================] - 6s 56us/step - loss: 1.0833 - acc: 0.6848 - val_loss: 1.1355 - val_acc: 0.6699\n",
      "Epoch 17/30\n",
      "110288/110288 [==============================] - 6s 56us/step - loss: 1.1225 - acc: 0.6775 - val_loss: 1.0368 - val_acc: 0.7023\n",
      "Epoch 18/30\n",
      "110288/110288 [==============================] - 6s 56us/step - loss: 1.0675 - acc: 0.6917 - val_loss: 1.0904 - val_acc: 0.6838\n",
      "Epoch 19/30\n",
      "110288/110288 [==============================] - 6s 56us/step - loss: 1.0796 - acc: 0.6884 - val_loss: 1.0137 - val_acc: 0.7081\n",
      "Epoch 20/30\n",
      "110288/110288 [==============================] - 6s 56us/step - loss: 1.0334 - acc: 0.7000 - val_loss: 1.0030 - val_acc: 0.7079\n",
      "Epoch 21/30\n",
      "110288/110288 [==============================] - 6s 56us/step - loss: 1.0234 - acc: 0.7021 - val_loss: 0.9933 - val_acc: 0.7089\n",
      "Epoch 22/30\n",
      "110288/110288 [==============================] - 6s 56us/step - loss: 1.0167 - acc: 0.7027 - val_loss: 0.9834 - val_acc: 0.7081\n",
      "Epoch 23/30\n",
      "110288/110288 [==============================] - 6s 56us/step - loss: 1.0406 - acc: 0.6955 - val_loss: 1.0236 - val_acc: 0.6962\n",
      "Epoch 24/30\n",
      "110288/110288 [==============================] - 6s 56us/step - loss: 1.0217 - acc: 0.6954 - val_loss: 0.9817 - val_acc: 0.7046\n",
      "Epoch 25/30\n",
      "110288/110288 [==============================] - 6s 56us/step - loss: 1.0285 - acc: 0.6933 - val_loss: 0.9768 - val_acc: 0.7031\n",
      "Epoch 26/30\n",
      "110288/110288 [==============================] - 6s 56us/step - loss: 0.9988 - acc: 0.6985 - val_loss: 0.9738 - val_acc: 0.7031\n",
      "Epoch 27/30\n",
      "110288/110288 [==============================] - 6s 57us/step - loss: 1.0413 - acc: 0.6887 - val_loss: 0.9680 - val_acc: 0.7025\n",
      "Epoch 28/30\n",
      "110288/110288 [==============================] - 6s 57us/step - loss: 0.9948 - acc: 0.6971 - val_loss: 0.9569 - val_acc: 0.7046\n",
      "Epoch 29/30\n",
      "110288/110288 [==============================] - 6s 56us/step - loss: 0.9920 - acc: 0.6982 - val_loss: 0.9508 - val_acc: 0.7077\n",
      "Epoch 30/30\n",
      "110288/110288 [==============================] - 6s 56us/step - loss: 0.9909 - acc: 0.6982 - val_loss: 1.5023 - val_acc: 0.6349\n",
      "votre moins est parfois calme en mois et il est il en en <PAD> <PAD> <PAD> <PAD> <PAD> <PAD> <PAD> <PAD>\n"
     ]
    }
   ],
   "source": [
    "def encdec_model(input_shape, output_sequence_length, english_vocab_size, french_vocab_size):\n",
    "    \"\"\"\n",
    "    Build and train an encoder-decoder model on x and y\n",
    "    :param input_shape: Tuple of input shape\n",
    "    :param output_sequence_length: Length of output sequence\n",
    "    :param english_vocab_size: Number of unique English words in the dataset\n",
    "    :param french_vocab_size: Number of unique French words in the dataset\n",
    "    :return: Keras model built, but not trained\n",
    "    \"\"\"\n",
    "    # OPTIONAL: Implement\n",
    "    learning_rate = 1e-2\n",
    "\n",
    "    input_seq = Input(shape=(input_shape[1:]))\n",
    "    \n",
    "    encoder = GRU(128,recurrent_dropout=0.2)(input_seq)\n",
    "    \n",
    "    rv = RepeatVector(output_sequence_length)(encoder)\n",
    "    \n",
    "    decoder = GRU(128,return_sequences=True, recurrent_dropout=0.2)(rv)\n",
    "    \n",
    "    d_l = Dense(french_vocab_size, activation='relu')(decoder)\n",
    "    \n",
    "    out_layer = TimeDistributed(Dense(french_vocab_size, activation='softmax'))(d_l)\n",
    "\n",
    "    model = Model(inputs=input_seq, outputs=out_layer)\n",
    "    \n",
    "    model.compile(loss=sparse_categorical_crossentropy,\n",
    "                  optimizer=Adam(learning_rate),\n",
    "                  metrics=['accuracy'])\n",
    "    return model\n",
    "\n",
    "tests.test_encdec_model(encdec_model)\n",
    "\n",
    "# Reshape the input\n",
    "tmp_x = pad(preproc_english_sentences, max_french_sequence_length)\n",
    "tmp_x = tmp_x.reshape((-1, preproc_french_sentences.shape[-2], 1))\n",
    "\n",
    "# Train the model\n",
    "encoder_decoder_model = encdec_model(tmp_x.shape,\n",
    "                                     max_french_sequence_length,\n",
    "                                     english_vocab_size + 1,\n",
    "                                     french_vocab_size + 1)\n",
    "encoder_decoder_model.fit(tmp_x, preproc_french_sentences, batch_size=1024, epochs=30, validation_split=0.2)\n",
    "\n",
    "# Print the prediction(s)\n",
    "print(logits_to_text(encoder_decoder_model.predict(tmp_x[:1])[0], french_tokenizer))"
   ]
  },
  {
   "cell_type": "markdown",
   "metadata": {},
   "source": [
    "### Model 5: Custom (IMPLEMENTATION)\n",
    "Use everything you learned from the previous models to create a model that incorporates embedding and a bidirectional rnn into one model."
   ]
  },
  {
   "cell_type": "code",
   "execution_count": 15,
   "metadata": {},
   "outputs": [
    {
     "name": "stdout",
     "output_type": "stream",
     "text": [
      "Final Model Loaded\n"
     ]
    }
   ],
   "source": [
    "def model_final(input_shape, output_sequence_length, english_vocab_size, french_vocab_size):\n",
    "    \"\"\"\n",
    "    Build and train a model that incorporates embedding, encoder-decoder, and bidirectional RNN on x and y\n",
    "    :param input_shape: Tuple of input shape\n",
    "    :param output_sequence_length: Length of output sequence\n",
    "    :param english_vocab_size: Number of unique English words in the dataset\n",
    "    :param french_vocab_size: Number of unique French words in the dataset\n",
    "    :return: Keras model built, but not trained\n",
    "    \"\"\"\n",
    "    # TODO: Implement\n",
    "    learning_rate = 2e-3\n",
    "\n",
    "    input_seq = Input(shape=(input_shape[1:]))\n",
    "    \n",
    "    embedding = Embedding(input_dim = english_vocab_size, output_dim = 512)(input_seq)\n",
    "    \n",
    "    encoder = GRU(512,recurrent_dropout=0.5)(embedding)\n",
    "    \n",
    "    dns = Dense(512, activation='relu')(encoder)\n",
    "    \n",
    "    rv = RepeatVector(output_sequence_length)(dns)\n",
    "    \n",
    "    decoder = GRU(512,return_sequences=True, recurrent_dropout=0.5)(rv)\n",
    "    \n",
    "    d_l = Dense(french_vocab_size, activation='relu')(decoder)\n",
    "    \n",
    "    out_layer = TimeDistributed(Dense(french_vocab_size, activation='softmax'))(d_l)\n",
    "\n",
    "    model = Model(inputs=input_seq, outputs=out_layer)\n",
    "    \n",
    "    model.compile(loss=sparse_categorical_crossentropy,\n",
    "                  optimizer=Adam(learning_rate),\n",
    "                  metrics=['accuracy'])\n",
    "    return model\n",
    "\n",
    "tests.test_model_final(model_final)\n",
    "\n",
    "\n",
    "print('Final Model Loaded')\n"
   ]
  },
  {
   "cell_type": "markdown",
   "metadata": {},
   "source": [
    "## Prediction (IMPLEMENTATION)"
   ]
  },
  {
   "cell_type": "code",
   "execution_count": 16,
   "metadata": {},
   "outputs": [
    {
     "name": "stdout",
     "output_type": "stream",
     "text": [
      "Train on 110288 samples, validate on 27573 samples\n",
      "Epoch 1/30\n",
      "110288/110288 [==============================] - 27s 248us/step - loss: 2.7908 - acc: 0.4534 - val_loss: 2.0988 - val_acc: 0.5107\n",
      "Epoch 2/30\n",
      "110288/110288 [==============================] - 25s 227us/step - loss: 1.7668 - acc: 0.5503 - val_loss: 1.6498 - val_acc: 0.5757\n",
      "Epoch 3/30\n",
      "110288/110288 [==============================] - 25s 226us/step - loss: 1.3894 - acc: 0.6166 - val_loss: 1.1703 - val_acc: 0.6684\n",
      "Epoch 4/30\n",
      "110288/110288 [==============================] - 25s 224us/step - loss: 1.1477 - acc: 0.6719 - val_loss: 1.0119 - val_acc: 0.7031\n",
      "Epoch 5/30\n",
      "110288/110288 [==============================] - 25s 225us/step - loss: 1.0132 - acc: 0.7007 - val_loss: 0.9168 - val_acc: 0.7239\n",
      "Epoch 6/30\n",
      "110288/110288 [==============================] - 25s 225us/step - loss: 0.8983 - acc: 0.7285 - val_loss: 0.7986 - val_acc: 0.7543\n",
      "Epoch 7/30\n",
      "110288/110288 [==============================] - 25s 225us/step - loss: 0.7680 - acc: 0.7621 - val_loss: 0.6553 - val_acc: 0.7954\n",
      "Epoch 8/30\n",
      "110288/110288 [==============================] - 25s 225us/step - loss: 0.6514 - acc: 0.7957 - val_loss: 0.5616 - val_acc: 0.8236\n",
      "Epoch 9/30\n",
      "110288/110288 [==============================] - 25s 225us/step - loss: 0.5727 - acc: 0.8174 - val_loss: 0.4887 - val_acc: 0.8420\n",
      "Epoch 10/30\n",
      "110288/110288 [==============================] - 25s 225us/step - loss: 0.5074 - acc: 0.8352 - val_loss: 0.4445 - val_acc: 0.8540\n",
      "Epoch 11/30\n",
      "110288/110288 [==============================] - 25s 226us/step - loss: 0.4536 - acc: 0.8517 - val_loss: 0.3919 - val_acc: 0.8701\n",
      "Epoch 12/30\n",
      "110288/110288 [==============================] - 25s 226us/step - loss: 0.3744 - acc: 0.8800 - val_loss: 0.2873 - val_acc: 0.9113\n",
      "Epoch 13/30\n",
      "110288/110288 [==============================] - 25s 225us/step - loss: 0.3033 - acc: 0.9056 - val_loss: 0.2355 - val_acc: 0.9310\n",
      "Epoch 14/30\n",
      "110288/110288 [==============================] - 25s 225us/step - loss: 0.2540 - acc: 0.9236 - val_loss: 0.1890 - val_acc: 0.9473\n",
      "Epoch 15/30\n",
      "110288/110288 [==============================] - 25s 225us/step - loss: 0.2134 - acc: 0.9364 - val_loss: 0.1668 - val_acc: 0.9516\n",
      "Epoch 16/30\n",
      "110288/110288 [==============================] - 25s 225us/step - loss: 0.1886 - acc: 0.9436 - val_loss: 0.1523 - val_acc: 0.9559\n",
      "Epoch 17/30\n",
      "110288/110288 [==============================] - 25s 225us/step - loss: 0.1799 - acc: 0.9460 - val_loss: 0.1361 - val_acc: 0.9605\n",
      "Epoch 18/30\n",
      "110288/110288 [==============================] - 25s 224us/step - loss: 0.1544 - acc: 0.9536 - val_loss: 0.1285 - val_acc: 0.9621\n",
      "Epoch 19/30\n",
      "110288/110288 [==============================] - 25s 225us/step - loss: 0.1435 - acc: 0.9566 - val_loss: 0.1149 - val_acc: 0.9665\n",
      "Epoch 20/30\n",
      "110288/110288 [==============================] - 25s 225us/step - loss: 0.1380 - acc: 0.9581 - val_loss: 0.1092 - val_acc: 0.9682\n",
      "Epoch 21/30\n",
      "110288/110288 [==============================] - 25s 227us/step - loss: 0.1270 - acc: 0.9615 - val_loss: 0.1026 - val_acc: 0.9698\n",
      "Epoch 22/30\n",
      "110288/110288 [==============================] - 25s 228us/step - loss: 0.1192 - acc: 0.9639 - val_loss: 0.0975 - val_acc: 0.9714\n",
      "Epoch 23/30\n",
      "110288/110288 [==============================] - 25s 227us/step - loss: 0.1181 - acc: 0.9645 - val_loss: 0.0952 - val_acc: 0.9723\n",
      "Epoch 24/30\n",
      "110288/110288 [==============================] - 25s 227us/step - loss: 0.1185 - acc: 0.9640 - val_loss: 0.1026 - val_acc: 0.9699\n",
      "Epoch 25/30\n",
      "110288/110288 [==============================] - 25s 227us/step - loss: 0.1145 - acc: 0.9654 - val_loss: 0.0899 - val_acc: 0.9738\n",
      "Epoch 26/30\n",
      "110288/110288 [==============================] - 25s 228us/step - loss: 0.1075 - acc: 0.9677 - val_loss: 0.1040 - val_acc: 0.9708\n",
      "Epoch 27/30\n",
      "110288/110288 [==============================] - 26s 238us/step - loss: 0.1107 - acc: 0.9664 - val_loss: 0.0986 - val_acc: 0.9714\n",
      "Epoch 28/30\n",
      "110288/110288 [==============================] - 26s 236us/step - loss: 0.1187 - acc: 0.9641 - val_loss: 0.0892 - val_acc: 0.9739\n",
      "Epoch 29/30\n",
      "110288/110288 [==============================] - 27s 241us/step - loss: 0.0957 - acc: 0.9707 - val_loss: 0.0815 - val_acc: 0.9761\n",
      "Epoch 30/30\n",
      "110288/110288 [==============================] - 26s 240us/step - loss: 0.0911 - acc: 0.9722 - val_loss: 0.0817 - val_acc: 0.9769\n",
      "Sample 1:\n",
      "il a vu un petit camion jaune <PAD> <PAD> <PAD> <PAD> <PAD> <PAD> <PAD> <PAD> <PAD> <PAD> <PAD> <PAD> <PAD> <PAD>\n",
      "Il a vu un vieux camion jaune\n",
      "Sample 2:\n",
      "new jersey est parfois calme pendant l' automne et il est neigeux en avril <PAD> <PAD> <PAD> <PAD> <PAD> <PAD> <PAD>\n",
      "new jersey est parfois calme pendant l' automne et il est neigeux en avril <PAD> <PAD> <PAD> <PAD> <PAD> <PAD> <PAD>\n"
     ]
    }
   ],
   "source": [
    "def final_predictions(x, y, x_tk, y_tk):\n",
    "    \"\"\"\n",
    "    Gets predictions using the final model\n",
    "    :param x: Preprocessed English data\n",
    "    :param y: Preprocessed French data\n",
    "    :param x_tk: English tokenizer\n",
    "    :param y_tk: French tokenizer\n",
    "    \"\"\"\n",
    "    # TODO: Train neural network using model_final\n",
    "    x = pad(x, y.shape[1])\n",
    "    \n",
    "    # Define final_model\n",
    "    final_model = model_final(x.shape, \n",
    "                              y.shape[1],\n",
    "                              len(x_tk.word_index) + 1,\n",
    "                              len(y_tk.word_index) + 1)\n",
    "    # Fit the final model\n",
    "    final_model.fit(x, y, batch_size=1024, epochs=30, validation_split=0.2)\n",
    "    \n",
    "    model = final_model\n",
    "\n",
    "    \n",
    "    ## DON'T EDIT ANYTHING BELOW THIS LINE\n",
    "    y_id_to_word = {value: key for key, value in y_tk.word_index.items()}\n",
    "    y_id_to_word[0] = '<PAD>'\n",
    "\n",
    "    sentence = 'he saw a old yellow truck'\n",
    "    sentence = [x_tk.word_index[word] for word in sentence.split()]\n",
    "    sentence = pad_sequences([sentence], maxlen=x.shape[-1], padding='post')\n",
    "    sentences = np.array([sentence[0], x[0]])\n",
    "    predictions = model.predict(sentences, len(sentences))\n",
    "\n",
    "    print('Sample 1:')\n",
    "    print(' '.join([y_id_to_word[np.argmax(x)] for x in predictions[0]]))\n",
    "    print('Il a vu un vieux camion jaune')\n",
    "    print('Sample 2:')\n",
    "    print(' '.join([y_id_to_word[np.argmax(x)] for x in predictions[1]]))\n",
    "    print(' '.join([y_id_to_word[np.max(x)] for x in y[0]]))\n",
    "\n",
    "\n",
    "final_predictions(preproc_english_sentences, preproc_french_sentences, english_tokenizer, french_tokenizer)"
   ]
  },
  {
   "cell_type": "markdown",
   "metadata": {},
   "source": [
    "## Submission\n",
    "When you're ready to submit, complete the following steps:\n",
    "1. Review the [rubric](https://review.udacity.com/#!/rubrics/1004/view) to ensure your submission meets all requirements to pass\n",
    "2. Generate an HTML version of this notebook\n",
    "\n",
    "  - Run the next cell to attempt automatic generation (this is the recommended method in Workspaces)\n",
    "  - Navigate to **FILE -> Download as -> HTML (.html)**\n",
    "  - Manually generate a copy using `nbconvert` from your shell terminal\n",
    "```\n",
    "$ pip install nbconvert\n",
    "$ python -m nbconvert machine_translation.ipynb\n",
    "```\n",
    "  \n",
    "3. Submit the project\n",
    "\n",
    "  - If you are in a Workspace, simply click the \"Submit Project\" button (bottom towards the right)\n",
    "  \n",
    "  - Otherwise, add the following files into a zip archive and submit them \n",
    "  - `helper.py`\n",
    "  - `machine_translation.ipynb`\n",
    "  - `machine_translation.html`\n",
    "    - You can export the notebook by navigating to **File -> Download as -> HTML (.html)**."
   ]
  },
  {
   "cell_type": "code",
   "execution_count": 17,
   "metadata": {},
   "outputs": [
    {
     "data": {
      "text/plain": [
       "['[NbConvertApp] Converting notebook machine_translation.ipynb to html',\n",
       " '[NbConvertApp] Writing 348884 bytes to machine_translation.html',\n",
       " '[NbConvertApp] Converting notebook Untitled.ipynb to html',\n",
       " '[NbConvertApp] Writing 252006 bytes to Untitled.html']"
      ]
     },
     "execution_count": 17,
     "metadata": {},
     "output_type": "execute_result"
    }
   ],
   "source": [
    "!!python -m nbconvert *.ipynb"
   ]
  },
  {
   "cell_type": "markdown",
   "metadata": {},
   "source": [
    "## Optional Enhancements\n",
    "\n",
    "This project focuses on learning various network architectures for machine translation, but we don't evaluate the models according to best practices by splitting the data into separate test & training sets -- so the model accuracy is overstated. Use the [`sklearn.model_selection.train_test_split()`](http://scikit-learn.org/stable/modules/generated/sklearn.model_selection.train_test_split.html) function to create separate training & test datasets, then retrain each of the models using only the training set and evaluate the prediction accuracy using the hold out test set. Does the \"best\" model change?"
   ]
  }
 ],
 "metadata": {
  "kernelspec": {
   "display_name": "Python 3",
   "language": "python",
   "name": "python3"
  },
  "language_info": {
   "codemirror_mode": {
    "name": "ipython",
    "version": 3
   },
   "file_extension": ".py",
   "mimetype": "text/x-python",
   "name": "python",
   "nbconvert_exporter": "python",
   "pygments_lexer": "ipython3",
   "version": "3.6.6"
  }
 },
 "nbformat": 4,
 "nbformat_minor": 1
}
